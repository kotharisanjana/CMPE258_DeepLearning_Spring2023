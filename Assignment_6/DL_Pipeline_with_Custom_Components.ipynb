{
  "nbformat": 4,
  "nbformat_minor": 0,
  "metadata": {
    "colab": {
      "provenance": [],
      "authorship_tag": "ABX9TyMaKWLddHYOiFe8JpdNzzqW",
      "include_colab_link": true
    },
    "kernelspec": {
      "name": "python3",
      "display_name": "Python 3"
    },
    "language_info": {
      "name": "python"
    }
  },
  "cells": [
    {
      "cell_type": "markdown",
      "metadata": {
        "id": "view-in-github",
        "colab_type": "text"
      },
      "source": [
        "<a href=\"https://colab.research.google.com/github/kotharisanjana/CMPE258_DeepLearning_Spring2023/blob/main/Assignment_6/DL_Pipeline_with_Custom_Components.ipynb\" target=\"_parent\"><img src=\"https://colab.research.google.com/assets/colab-badge.svg\" alt=\"Open In Colab\"/></a>"
      ]
    },
    {
      "cell_type": "markdown",
      "source": [
        "Colab demonstrating custom components in neural networks sing tensorflow"
      ],
      "metadata": {
        "id": "cH1Km8-lO3LI"
      }
    },
    {
      "cell_type": "code",
      "execution_count": 1,
      "metadata": {
        "id": "3VVqVDA7nJy0"
      },
      "outputs": [],
      "source": [
        "# Imports\n",
        "\n",
        "import math\n",
        "import numpy as np\n",
        "from sklearn.datasets import fetch_california_housing\n",
        "from sklearn.model_selection import train_test_split\n",
        "from sklearn.preprocessing import StandardScaler\n",
        "import tensorflow as tf\n",
        "import tensorflow_datasets as tfds"
      ]
    },
    {
      "cell_type": "code",
      "source": [
        "# Ingest data\n",
        "\n",
        "dataset, info = tfds.load('cats_vs_dogs', with_info=True)\n",
        "dataset = dataset['train'].take(500)"
      ],
      "metadata": {
        "id": "jMqm_Ayi3wsN"
      },
      "execution_count": 2,
      "outputs": []
    },
    {
      "cell_type": "code",
      "source": [
        "# Preprocess images\n",
        "\n",
        "def preprocess_image(sample):\n",
        "    image = sample['image']\n",
        "    image = tf.cast(image, tf.float32) / 255.0\n",
        "    image = tf.image.resize(image, (150, 150))\n",
        "    image = tf.reshape(image, (1, 150, 150, 3))\n",
        "    label = sample['label']\n",
        "    return {'image': image, 'label': label}\n",
        "\n",
        "dataset = dataset.map(preprocess_image)"
      ],
      "metadata": {
        "id": "bEI1ratO83ED"
      },
      "execution_count": 3,
      "outputs": []
    },
    {
      "cell_type": "code",
      "source": [
        "# Split the dataset into training and testing sets\n",
        "\n",
        "train_dataset_ = dataset.take(400)\n",
        "test_dataset_ = dataset.skip(400)\n",
        "\n",
        "train_dataset = train_dataset_.map(lambda x: (x['image'], tf.expand_dims(x['label'], axis=-1)))\n",
        "test_dataset = train_dataset_.map(lambda x: (x['image'], tf.expand_dims(x['label'], axis=-1)))"
      ],
      "metadata": {
        "id": "zaGNAR886ufp"
      },
      "execution_count": 4,
      "outputs": []
    },
    {
      "cell_type": "markdown",
      "source": [
        "Custom loss function"
      ],
      "metadata": {
        "id": "Tejd-BLQTMZb"
      }
    },
    {
      "cell_type": "code",
      "source": [
        "def huber_loss(y_true, y_pred):\n",
        "  y_true = tf.cast(y_true, tf.float32)\n",
        "  error = y_true - y_pred\n",
        "  is_small_error = tf.abs(error) < 1\n",
        "  squared_loss = tf.square(error) / 2\n",
        "  linear_loss  = tf.abs(error) - 0.5\n",
        "  return tf.where(is_small_error, squared_loss, linear_loss)"
      ],
      "metadata": {
        "id": "LZOtDDKQRFta"
      },
      "execution_count": 5,
      "outputs": []
    },
    {
      "cell_type": "markdown",
      "source": [
        "Custom initilializer"
      ],
      "metadata": {
        "id": "mGCa48b8Tl9j"
      }
    },
    {
      "cell_type": "code",
      "source": [
        "def glorot_initializer(shape, dtype=tf.float32):\n",
        "  stddev = tf.sqrt(2. / (shape[0] + shape[1]))\n",
        "  return tf.random.normal(shape, stddev=stddev, dtype=dtype)"
      ],
      "metadata": {
        "id": "heUuxnxjToYu"
      },
      "execution_count": 6,
      "outputs": []
    },
    {
      "cell_type": "markdown",
      "source": [
        "Saving and loading model with custom object"
      ],
      "metadata": {
        "id": "Z5iUhv5gTStc"
      }
    },
    {
      "cell_type": "code",
      "source": [
        "model = tf.keras.Sequential([\n",
        "    tf.keras.layers.Conv2D(32, 3, activation='relu', input_shape=(150,150,3)),\n",
        "    tf.keras.layers.MaxPooling2D(),\n",
        "    tf.keras.layers.Conv2D(32, 3, activation='relu'),\n",
        "    tf.keras.layers.MaxPooling2D(),\n",
        "    tf.keras.layers.Flatten(),\n",
        "    tf.keras.layers.Dense(128, activation='relu'),\n",
        "    tf.keras.layers.Dense(1, activation='sigmoid', kernel_initializer=glorot_initializer)\n",
        "])\n",
        "\n",
        "model.compile(optimizer='adam', loss=huber_loss, metrics=['accuracy'])\n",
        "\n",
        "model.fit(train_dataset, epochs=1, batch_size=16, validation_data=test_dataset)"
      ],
      "metadata": {
        "colab": {
          "base_uri": "https://localhost:8080/"
        },
        "id": "0grz-Emu7R0E",
        "outputId": "0d6189b9-ffd1-46d9-9ac2-8aae62de51d1"
      },
      "execution_count": 7,
      "outputs": [
        {
          "output_type": "stream",
          "name": "stdout",
          "text": [
            "400/400 [==============================] - 65s 156ms/step - loss: 0.2652 - accuracy: 0.4700 - val_loss: 0.2650 - val_accuracy: 0.4700\n"
          ]
        },
        {
          "output_type": "execute_result",
          "data": {
            "text/plain": [
              "<keras.callbacks.History at 0x7fbf64beeee0>"
            ]
          },
          "metadata": {},
          "execution_count": 7
        }
      ]
    },
    {
      "cell_type": "code",
      "source": [
        "# Saving models with custom objects\n",
        "\n",
        "model.save('model_with_custom_loss_initializer')"
      ],
      "metadata": {
        "colab": {
          "base_uri": "https://localhost:8080/"
        },
        "id": "dFWPfYwT8VDg",
        "outputId": "be1f22e5-b2ff-43e6-92ac-bc2396eb508a"
      },
      "execution_count": 8,
      "outputs": [
        {
          "output_type": "stream",
          "name": "stderr",
          "text": [
            "WARNING:absl:Found untraced functions such as _jit_compiled_convolution_op, _jit_compiled_convolution_op, _update_step_xla while saving (showing 3 of 3). These functions will not be directly callable after loading.\n"
          ]
        }
      ]
    },
    {
      "cell_type": "code",
      "source": [
        "# Load saved model and run again\n",
        "\n",
        "model = tf.keras.models.load_model('model_with_custom_loss_initializer', custom_objects={'huber_loss':huber_loss, 'glorot_initializer':glorot_initializer})\n",
        "model.fit(train_dataset, epochs=1, batch_size=16)"
      ],
      "metadata": {
        "colab": {
          "base_uri": "https://localhost:8080/"
        },
        "id": "ERQqoAcSSoGF",
        "outputId": "577ea4cc-241b-4bae-eb3e-43d872b058b3"
      },
      "execution_count": 9,
      "outputs": [
        {
          "output_type": "stream",
          "name": "stdout",
          "text": [
            "400/400 [==============================] - 48s 118ms/step - loss: 0.2650 - accuracy: 0.4700\n"
          ]
        },
        {
          "output_type": "execute_result",
          "data": {
            "text/plain": [
              "<keras.callbacks.History at 0x7fbf653f0220>"
            ]
          },
          "metadata": {},
          "execution_count": 9
        }
      ]
    },
    {
      "cell_type": "markdown",
      "source": [
        "Saving a model with custom loss function and custom initializer and loading it again works correctly."
      ],
      "metadata": {
        "id": "xYRggqLwVV9d"
      }
    },
    {
      "cell_type": "markdown",
      "source": [
        "Custom regularizer"
      ],
      "metadata": {
        "id": "pnRnyWAxVV3A"
      }
    },
    {
      "cell_type": "code",
      "source": [
        "class Regularizer(tf.keras.regularizers.Regularizer):\n",
        "  def __init__(self, factor):\n",
        "      self.factor = factor\n",
        "\n",
        "  def __call__(self, weights):\n",
        "      return tf.reduce_sum(tf.abs(self.factor * weights))"
      ],
      "metadata": {
        "id": "J-qwLi8sSyEW"
      },
      "execution_count": 10,
      "outputs": []
    },
    {
      "cell_type": "markdown",
      "source": [
        "Custom seed"
      ],
      "metadata": {
        "id": "iMs21qKsobCs"
      }
    },
    {
      "cell_type": "markdown",
      "source": [
        "Seed is set using random number generator for reproducibility so that the model produces the same results every time the model is run with the same inputs."
      ],
      "metadata": {
        "id": "Mr2HNG7hoqqK"
      }
    },
    {
      "cell_type": "code",
      "source": [
        "tf.random.set_seed(112)"
      ],
      "metadata": {
        "id": "vHybQqBUodfo"
      },
      "execution_count": 11,
      "outputs": []
    },
    {
      "cell_type": "code",
      "source": [
        "model = tf.keras.Sequential([\n",
        "    tf.keras.layers.Conv2D(32, 3, activation='relu', input_shape=(150,150,3)),\n",
        "    tf.keras.layers.MaxPooling2D(),\n",
        "    tf.keras.layers.Conv2D(32, 3, activation='relu'),\n",
        "    tf.keras.layers.MaxPooling2D(),\n",
        "    tf.keras.layers.Flatten(),\n",
        "    tf.keras.layers.Dense(128, activation='relu'),\n",
        "    tf.keras.layers.Dense(1, activation='sigmoid', kernel_regularizer=Regularizer(0.001),)\n",
        "])\n",
        "\n",
        "model.compile(optimizer='adam', loss='binary_crossentropy', metrics=['accuracy'])\n",
        "\n",
        "model.fit(train_dataset, epochs=1, batch_size=16, validation_data=test_dataset)"
      ],
      "metadata": {
        "colab": {
          "base_uri": "https://localhost:8080/"
        },
        "id": "MhOf7v2tVh08",
        "outputId": "00bfb2ca-c4a3-499c-b8d4-d4512dae3c8c"
      },
      "execution_count": 12,
      "outputs": [
        {
          "output_type": "stream",
          "name": "stdout",
          "text": [
            "400/400 [==============================] - 56s 138ms/step - loss: 0.7918 - accuracy: 0.5425 - val_loss: 0.6952 - val_accuracy: 0.5325\n"
          ]
        },
        {
          "output_type": "execute_result",
          "data": {
            "text/plain": [
              "<keras.callbacks.History at 0x7fbf64f20a60>"
            ]
          },
          "metadata": {},
          "execution_count": 12
        }
      ]
    },
    {
      "cell_type": "markdown",
      "source": [
        "Adding custom regularizer helped improve training and validation accuracy"
      ],
      "metadata": {
        "id": "WyQlgDqBYMTv"
      }
    },
    {
      "cell_type": "markdown",
      "source": [
        "Custom activation and custom kernel constraint"
      ],
      "metadata": {
        "id": "7FigUotZWO_4"
      }
    },
    {
      "cell_type": "code",
      "source": [
        "def activation(z):\n",
        "  return tf.math.log(1.0 + tf.exp(z))/tf.exp(z)"
      ],
      "metadata": {
        "id": "TuEg_2izVuY2"
      },
      "execution_count": 13,
      "outputs": []
    },
    {
      "cell_type": "code",
      "source": [
        "def kernel_constraint(weights):\n",
        "  return tf.where(weights < 0., tf.zeros_like(weights), weights)"
      ],
      "metadata": {
        "id": "VKVXLqQ3X1C-"
      },
      "execution_count": 14,
      "outputs": []
    },
    {
      "cell_type": "code",
      "source": [
        "model = tf.keras.Sequential([\n",
        "    tf.keras.layers.Conv2D(32, 3, activation='relu', input_shape=(150,150,3)),\n",
        "    tf.keras.layers.MaxPooling2D(),\n",
        "    tf.keras.layers.Conv2D(32, 3, activation='relu'),\n",
        "    tf.keras.layers.MaxPooling2D(),\n",
        "    tf.keras.layers.Flatten(),\n",
        "    tf.keras.layers.Dense(128, activation='relu'),\n",
        "    tf.keras.layers.Dense(1, activation=activation, kernel_constraint=kernel_constraint)\n",
        "])\n",
        "\n",
        "model.compile(optimizer='adam', loss='binary_crossentropy', metrics=['accuracy'])\n",
        "\n",
        "model.fit(train_dataset, epochs=1, batch_size=16, validation_data=test_dataset)"
      ],
      "metadata": {
        "colab": {
          "base_uri": "https://localhost:8080/"
        },
        "id": "sTDOJ6MoWdgp",
        "outputId": "337ff2cc-f736-467c-ea89-7b8fdd8aa990"
      },
      "execution_count": 15,
      "outputs": [
        {
          "output_type": "stream",
          "name": "stdout",
          "text": [
            "400/400 [==============================] - 49s 121ms/step - loss: 0.7808 - accuracy: 0.4500 - val_loss: 0.7738 - val_accuracy: 0.4700\n"
          ]
        },
        {
          "output_type": "execute_result",
          "data": {
            "text/plain": [
              "<keras.callbacks.History at 0x7fbf64d2e250>"
            ]
          },
          "metadata": {},
          "execution_count": 15
        }
      ]
    },
    {
      "cell_type": "markdown",
      "source": [
        "Adding this custom kernel constraint made the loss nan which could be due to vanishing or exploding gradients. "
      ],
      "metadata": {
        "id": "XTCBbdp5YiR0"
      }
    },
    {
      "cell_type": "markdown",
      "source": [
        "Custom learning rate scheduler\n"
      ],
      "metadata": {
        "id": "AYfubNjja5fK"
      }
    },
    {
      "cell_type": "markdown",
      "source": [
        "Updates learning rate at the beginning of each batch - increase the learning rate linearly during about half of training, then reduce it linearly back to the initial learning rate, and lastly reduce it down to close to zero linearly for the very last part of training."
      ],
      "metadata": {
        "id": "fTmGZavSbOHe"
      }
    },
    {
      "cell_type": "code",
      "source": [
        "K = tf.keras.backend\n",
        "\n",
        "class LearningRateScheduler(tf.keras.callbacks.Callback):\n",
        "    def __init__(self, iterations, max_lr=1e-3, start_lr=None, last_iterations=None, last_lr=None):\n",
        "        self.iterations = iterations\n",
        "        self.max_lr = max_lr\n",
        "        self.start_lr = start_lr or max_lr / 10\n",
        "        self.last_iterations = last_iterations or iterations // 10 + 1\n",
        "        self.half_iteration = (iterations - self.last_iterations) // 2\n",
        "        self.last_lr = last_lr or self.start_lr / 1000\n",
        "        self.iteration = 0\n",
        "\n",
        "    def _interpolate(self, iter1, iter2, lr1, lr2):\n",
        "        return (lr2 - lr1) * (self.iteration - iter1) / (iter2 - iter1) + lr1\n",
        "\n",
        "    def on_batch_begin(self, batch, logs):\n",
        "        if self.iteration < self.half_iteration:\n",
        "            lr = self._interpolate(0, self.half_iteration, self.start_lr,\n",
        "                                   self.max_lr)\n",
        "        elif self.iteration < 2 * self.half_iteration:\n",
        "            lr = self._interpolate(self.half_iteration, 2 * self.half_iteration,\n",
        "                                   self.max_lr, self.start_lr)\n",
        "        else:\n",
        "            lr = self._interpolate(2 * self.half_iteration, self.iterations,\n",
        "                                   self.start_lr, self.last_lr)\n",
        "        self.iteration += 1\n",
        "        K.set_value(self.model.optimizer.learning_rate, lr)"
      ],
      "metadata": {
        "id": "-T0SXTuBa6lY"
      },
      "execution_count": 16,
      "outputs": []
    },
    {
      "cell_type": "code",
      "source": [
        "learning_rate_schedule = LearningRateScheduler(math.ceil(len(train_dataset) / 16) * 2, max_lr=0.001)"
      ],
      "metadata": {
        "id": "XDbEhKU1bBmm"
      },
      "execution_count": 17,
      "outputs": []
    },
    {
      "cell_type": "code",
      "source": [
        "model = tf.keras.Sequential([\n",
        "    tf.keras.layers.Conv2D(32, 3, activation='relu', input_shape=(150,150,3)),\n",
        "    tf.keras.layers.MaxPooling2D(),\n",
        "    tf.keras.layers.Conv2D(32, 3, activation='relu'),\n",
        "    tf.keras.layers.MaxPooling2D(),\n",
        "    tf.keras.layers.Flatten(),\n",
        "    tf.keras.layers.Dense(128, activation='relu'),\n",
        "    tf.keras.layers.Dense(1, activation='sigmoid')\n",
        "])\n",
        "\n",
        "model.compile(optimizer='adam', loss='binary_crossentropy', metrics=['accuracy'])\n",
        "\n",
        "model.fit(train_dataset, epochs=2, batch_size=16, validation_data=test_dataset, callbacks=[learning_rate_schedule])"
      ],
      "metadata": {
        "colab": {
          "base_uri": "https://localhost:8080/"
        },
        "id": "lQn7J9SOa7zy",
        "outputId": "f4449c7e-4d49-4752-eae9-1dabd43bec4c"
      },
      "execution_count": 18,
      "outputs": [
        {
          "output_type": "stream",
          "name": "stdout",
          "text": [
            "Epoch 1/2\n",
            "400/400 [==============================] - 43s 104ms/step - loss: 298371168.0000 - accuracy: 0.5600 - val_loss: 3712411904.0000 - val_accuracy: 0.5300\n",
            "Epoch 2/2\n",
            "400/400 [==============================] - 40s 100ms/step - loss: 400102948864.0000 - accuracy: 0.5300 - val_loss: 2000104718336.0000 - val_accuracy: 0.5300\n"
          ]
        },
        {
          "output_type": "execute_result",
          "data": {
            "text/plain": [
              "<keras.callbacks.History at 0x7fbf64a1b910>"
            ]
          },
          "metadata": {},
          "execution_count": 18
        }
      ]
    },
    {
      "cell_type": "markdown",
      "source": [
        "Custom callback"
      ],
      "metadata": {
        "id": "zzMeX3vGuoEB"
      }
    },
    {
      "cell_type": "markdown",
      "source": [
        "We define a logging callback that generates logs during start and end of training, testing and evaluation"
      ],
      "metadata": {
        "id": "tQ752mLiPJkr"
      }
    },
    {
      "cell_type": "code",
      "source": [
        "class CustomCallback(tf.keras.callbacks.Callback):\n",
        "    def on_train_begin(self, logs=None):\n",
        "        keys = list(logs.keys())\n",
        "        print('Starting training; got log keys: {}'.format(keys))\n",
        "\n",
        "    def on_train_end(self, logs=None):\n",
        "        keys = list(logs.keys())\n",
        "        print('Stop training; got log keys: {}'.format(keys))\n",
        "\n",
        "    def on_test_begin(self, logs=None):\n",
        "        keys = list(logs.keys())\n",
        "        print('Start testing; got log keys: {}'.format(keys))\n",
        "\n",
        "    def on_test_end(self, logs=None):\n",
        "        keys = list(logs.keys())\n",
        "        print('Stop testing; got log keys: {}'.format(keys))\n",
        "\n",
        "    def on_predict_begin(self, logs=None):\n",
        "        keys = list(logs.keys())\n",
        "        print('Start predicting; got log keys: {}'.format(keys))\n",
        "\n",
        "    def on_predict_end(self, logs=None):\n",
        "        keys = list(logs.keys())\n",
        "        print('Stop predicting; got log keys: {}'.format(keys))"
      ],
      "metadata": {
        "id": "il0GffTnuqVC"
      },
      "execution_count": 19,
      "outputs": []
    },
    {
      "cell_type": "code",
      "source": [
        "model = tf.keras.Sequential([\n",
        "    tf.keras.layers.Conv2D(32, 3, activation='relu', input_shape=(150,150,3)),\n",
        "    tf.keras.layers.MaxPooling2D(),\n",
        "    tf.keras.layers.Conv2D(32, 3, activation='relu'),\n",
        "    tf.keras.layers.MaxPooling2D(),\n",
        "    tf.keras.layers.Flatten(),\n",
        "    tf.keras.layers.Dense(128, activation='relu'),\n",
        "    tf.keras.layers.Dense(1, activation='sigmoid')\n",
        "])\n",
        "\n",
        "model.compile(optimizer='adam', loss='binary_crossentropy', metrics=['accuracy'])\n",
        "\n",
        "model.fit(train_dataset, epochs=2, batch_size=16, validation_data=test_dataset, callbacks=[CustomCallback()])"
      ],
      "metadata": {
        "colab": {
          "base_uri": "https://localhost:8080/"
        },
        "id": "0RW98ZCIvju9",
        "outputId": "24dc3686-dd10-482e-d22b-d616767b4bf3"
      },
      "execution_count": 20,
      "outputs": [
        {
          "output_type": "stream",
          "name": "stdout",
          "text": [
            "Starting training; got log keys: []\n",
            "Epoch 1/2\n",
            "400/400 [==============================] - ETA: 0s - loss: 0.8525 - accuracy: 0.5475Start testing; got log keys: []\n",
            "Stop testing; got log keys: ['loss', 'accuracy']\n",
            "400/400 [==============================] - 46s 112ms/step - loss: 0.8525 - accuracy: 0.5475 - val_loss: 0.6823 - val_accuracy: 0.5625\n",
            "Epoch 2/2\n",
            "400/400 [==============================] - ETA: 0s - loss: 0.7822 - accuracy: 0.6650Start testing; got log keys: []\n",
            "Stop testing; got log keys: ['loss', 'accuracy']\n",
            "400/400 [==============================] - 39s 98ms/step - loss: 0.7822 - accuracy: 0.6650 - val_loss: 0.6560 - val_accuracy: 0.8025\n",
            "Stop training; got log keys: ['loss', 'accuracy', 'val_loss', 'val_accuracy']\n"
          ]
        },
        {
          "output_type": "execute_result",
          "data": {
            "text/plain": [
              "<keras.callbacks.History at 0x7fbf648a2a90>"
            ]
          },
          "metadata": {},
          "execution_count": 20
        }
      ]
    },
    {
      "cell_type": "markdown",
      "source": [
        "Custom layer"
      ],
      "metadata": {
        "id": "GclA6g8PgPTA"
      }
    },
    {
      "cell_type": "code",
      "source": [
        "df = fetch_california_housing()\n",
        "\n",
        "X_train, X_test, y_train, y_test = train_test_split(df.data, df.target.reshape(-1, 1), random_state=42)\n",
        "\n",
        "sc = StandardScaler()\n",
        "X_train_scaled = sc.fit_transform(X_train)\n",
        "X_test_scaled = sc.transform(X_test)"
      ],
      "metadata": {
        "id": "OVmcVMw7io1e"
      },
      "execution_count": 21,
      "outputs": []
    },
    {
      "cell_type": "code",
      "source": [
        "class CustomDense(tf.keras.layers.Layer):\n",
        "    def __init__(self, units, activation='relu'):\n",
        "      super().__init__()\n",
        "      self.units = units\n",
        "      self.activation = tf.keras.activations.get(activation)\n",
        "\n",
        "    def build(self, input_shape):\n",
        "      self.kernel = self.add_weight(shape=(input_shape[1], self.units), initializer='normal', trainable=True)\n",
        "      self.biases = self.add_weight(shape=(self.units,), initializer='zeros', trainable=True)\n",
        "      super().build(input_shape)\n",
        "\n",
        "    def call(self, X):\n",
        "      return self.activation(X @ self.kernel + self.biases)"
      ],
      "metadata": {
        "id": "UyfpPTDkbrbJ"
      },
      "execution_count": 22,
      "outputs": []
    },
    {
      "cell_type": "markdown",
      "source": [
        "Custom model"
      ],
      "metadata": {
        "id": "ZOBcXVWVgkBl"
      }
    },
    {
      "cell_type": "code",
      "source": [
        "class CustomModel(tf.keras.Model):\n",
        "    def __init__(self, **kwargs):\n",
        "      super().__init__(**kwargs)\n",
        "      self.hidden1 = CustomDense(100)\n",
        "      self.hidden2 = CustomDense(50)\n",
        "      self.hidden3 = CustomDense(10)\n",
        "      self.output_ = CustomDense(1)\n",
        "\n",
        "    def call(self, input):\n",
        "      hidden1 = self.hidden1(input)\n",
        "      hidden2 = self.hidden2(hidden1)\n",
        "      hidden3 = self.hidden3(hidden2)\n",
        "      concat = tf.keras.layers.concatenate([input, hidden3])\n",
        "      output = self.output_(concat)\n",
        "      return output\n",
        "\n",
        "model = CustomModel()"
      ],
      "metadata": {
        "id": "TDzw35G0ggkC"
      },
      "execution_count": 23,
      "outputs": []
    },
    {
      "cell_type": "code",
      "source": [
        "model.compile(loss='mse', optimizer='adam', metrics=['accuracy'])\n",
        "model.fit(X_train_scaled, y_train, epochs=2, validation_data=(X_test_scaled, y_test))"
      ],
      "metadata": {
        "colab": {
          "base_uri": "https://localhost:8080/"
        },
        "id": "QXM98IJhhOoA",
        "outputId": "ce6dc09d-b982-4adf-c6d9-6dd22005bc61"
      },
      "execution_count": 24,
      "outputs": [
        {
          "output_type": "stream",
          "name": "stdout",
          "text": [
            "Epoch 1/2\n",
            "484/484 [==============================] - 3s 4ms/step - loss: 0.9764 - accuracy: 0.0028 - val_loss: 0.4536 - val_accuracy: 0.0021\n",
            "Epoch 2/2\n",
            "484/484 [==============================] - 2s 3ms/step - loss: 0.4331 - accuracy: 0.0032 - val_loss: 0.4172 - val_accuracy: 0.0021\n"
          ]
        },
        {
          "output_type": "execute_result",
          "data": {
            "text/plain": [
              "<keras.callbacks.History at 0x7fbf6497aaf0>"
            ]
          },
          "metadata": {},
          "execution_count": 24
        }
      ]
    },
    {
      "cell_type": "markdown",
      "source": [
        "Custom gradient"
      ],
      "metadata": {
        "id": "SU8TA-YJrveq"
      }
    },
    {
      "cell_type": "code",
      "source": [
        "@tf.custom_gradient\n",
        "def custom_gradient_fn(z):\n",
        "  def custom_gradient_fn_gradients(grads):  \n",
        "      return grads * (1 - 1 / (1 + tf.exp(z))) \n",
        "\n",
        "  result = tf.math.log(1 + tf.exp(-tf.abs(z))) + tf.maximum(0., z)\n",
        "  return result, custom_gradient_fn_gradients\n",
        "\n",
        "x = tf.Variable([1000.])\n",
        "with tf.GradientTape() as tape:\n",
        "    z = custom_gradient_fn(x)\n",
        "\n",
        "z, tape.gradient(z, [x])"
      ],
      "metadata": {
        "colab": {
          "base_uri": "https://localhost:8080/"
        },
        "id": "39ewBT0yiGq_",
        "outputId": "a9a64f05-1070-4588-926b-315ea7c396cc"
      },
      "execution_count": 25,
      "outputs": [
        {
          "output_type": "execute_result",
          "data": {
            "text/plain": [
              "(<tf.Tensor: shape=(1,), dtype=float32, numpy=array([1000.], dtype=float32)>,\n",
              " [<tf.Tensor: shape=(1,), dtype=float32, numpy=array([1.], dtype=float32)>])"
            ]
          },
          "metadata": {},
          "execution_count": 25
        }
      ]
    },
    {
      "cell_type": "markdown",
      "source": [
        "Custom training loop"
      ],
      "metadata": {
        "id": "xHc8kWperw37"
      }
    },
    {
      "cell_type": "code",
      "source": [
        "model = tf.keras.Sequential([\n",
        "    tf.keras.layers.Conv2D(32, 3, activation='relu', input_shape=(150,150,3)),\n",
        "    tf.keras.layers.MaxPooling2D(),\n",
        "    tf.keras.layers.Conv2D(32, 3, activation='relu', kernel_regularizer=tf.keras.regularizers.l2(0.02)),\n",
        "    tf.keras.layers.MaxPooling2D(),\n",
        "    tf.keras.layers.Flatten(),\n",
        "    tf.keras.layers.Dense(128, activation='relu', kernel_regularizer=tf.keras.regularizers.l2(0.02)),\n",
        "    tf.keras.layers.Dense(1, activation='sigmoid')\n",
        "])"
      ],
      "metadata": {
        "id": "v2zuIhNcryMl"
      },
      "execution_count": 26,
      "outputs": []
    },
    {
      "cell_type": "code",
      "source": [
        "epochs = 2\n",
        "optimizer = tf.keras.optimizers.Adam(learning_rate=0.01)\n",
        "loss_fn = tf.keras.losses.binary_crossentropy\n",
        "metrics = [tf.keras.metrics.Accuracy()]"
      ],
      "metadata": {
        "id": "GdZnRT9AEXSB"
      },
      "execution_count": 27,
      "outputs": []
    },
    {
      "cell_type": "code",
      "source": [
        "for epoch in range(epochs):\n",
        "  print('epoch =', epoch)\n",
        "  for step, (X_batch, y_batch) in enumerate(train_dataset):\n",
        "    with tf.GradientTape() as tape:\n",
        "      y_pred = model(X_batch, training=True)\n",
        "      y_batch = tf.reshape(y_batch, (1, 1))\n",
        "      loss = loss_fn(y_batch, y_pred)\n",
        "\n",
        "    gradients = tape.gradient(loss, model.trainable_variables)\n",
        "    optimizer.apply_gradients(zip(gradients, model.trainable_variables))\n",
        "\n",
        "    for metric in metrics:\n",
        "        metric(y_batch, y_pred)"
      ],
      "metadata": {
        "colab": {
          "base_uri": "https://localhost:8080/"
        },
        "id": "L_Zk6a8yGm7h",
        "outputId": "f4611874-2909-4425-ccb4-2f0d1951bfbf"
      },
      "execution_count": 28,
      "outputs": [
        {
          "output_type": "stream",
          "name": "stdout",
          "text": [
            "epoch = 0\n",
            "epoch = 1\n"
          ]
        }
      ]
    },
    {
      "cell_type": "markdown",
      "source": [
        "Custom optimizer"
      ],
      "metadata": {
        "id": "0b30WpfUxT4Y"
      }
    },
    {
      "cell_type": "markdown",
      "source": [
        "Modifying Adam optimizer's behavior"
      ],
      "metadata": {
        "id": "wV9zpPUOPWtG"
      }
    },
    {
      "cell_type": "code",
      "source": [
        "class CustomOptimizer(tf.keras.optimizers.Adam):\n",
        "  def __init__(self, dropout_rate):\n",
        "    super().__init__()\n",
        "    self.dropout_rate = dropout_rate\n",
        "  \n",
        "  def _resource_apply_dense(self, grad, var):\n",
        "    dropout_mask = tf.keras.backend.random_binomial(tf.shape(var), p=1-self.dropout_rate)\n",
        "    grad = grad * dropout_mask\n",
        "    return super()._resource_apply_dense(grad, var)"
      ],
      "metadata": {
        "id": "3vT3GcpwNzwP"
      },
      "execution_count": 29,
      "outputs": []
    },
    {
      "cell_type": "code",
      "source": [
        "model.compile(optimizer=CustomOptimizer(dropout_rate=0.1), loss='binary_crossentropy', metrics=['accuracy'])\n",
        "\n",
        "model.fit(train_dataset, epochs=2, batch_size=16, validation_data=test_dataset)"
      ],
      "metadata": {
        "colab": {
          "base_uri": "https://localhost:8080/"
        },
        "id": "zOCt-d_Fx4-e",
        "outputId": "0a31de5d-d506-457a-9893-5b774f22a71c"
      },
      "execution_count": 30,
      "outputs": [
        {
          "output_type": "stream",
          "name": "stdout",
          "text": [
            "Epoch 1/2\n",
            "400/400 [==============================] - 49s 121ms/step - loss: 6.9027 - accuracy: 0.5300 - val_loss: 0.6940 - val_accuracy: 0.5300\n",
            "Epoch 2/2\n",
            "400/400 [==============================] - 48s 120ms/step - loss: 0.6923 - accuracy: 0.5300 - val_loss: 0.6915 - val_accuracy: 0.5300\n"
          ]
        },
        {
          "output_type": "execute_result",
          "data": {
            "text/plain": [
              "<keras.callbacks.History at 0x7fbf36d91610>"
            ]
          },
          "metadata": {},
          "execution_count": 30
        }
      ]
    },
    {
      "cell_type": "markdown",
      "source": [
        "Custom metrics"
      ],
      "metadata": {
        "id": "ADqMHsqZz5wF"
      }
    },
    {
      "cell_type": "code",
      "source": [
        "def huber_metric(threshold):\n",
        "  def huber_loss(y_true, y_pred):\n",
        "    y_true = tf.cast(y_true, tf.float32)\n",
        "    error = y_true - y_pred\n",
        "    is_small_error = tf.abs(error) < threshold\n",
        "    squared_loss = tf.square(error) / 2\n",
        "    linear_loss  = threshold * tf.abs(error) - threshold ** 2 / 2\n",
        "    return tf.where(is_small_error, squared_loss, linear_loss)\n",
        "  return huber_loss "
      ],
      "metadata": {
        "id": "2WjtnlmhzI4f"
      },
      "execution_count": 31,
      "outputs": []
    },
    {
      "cell_type": "code",
      "source": [
        "model = tf.keras.Sequential([\n",
        "    tf.keras.layers.Conv2D(32, 3, activation='relu', input_shape=(150,150,3)),\n",
        "    tf.keras.layers.MaxPooling2D(),\n",
        "    tf.keras.layers.Conv2D(32, 3, activation='relu'),\n",
        "    tf.keras.layers.MaxPooling2D(),\n",
        "    tf.keras.layers.Flatten(),\n",
        "    tf.keras.layers.Dense(128, activation='relu'),\n",
        "    tf.keras.layers.Dense(1, activation='sigmoid')\n",
        "])\n",
        "\n",
        "model.compile(optimizer='adam', loss='binary_crossentropy', metrics=[huber_metric(0.4)])\n",
        "\n",
        "model.fit(train_dataset, epochs=2, batch_size=16, validation_data=test_dataset)"
      ],
      "metadata": {
        "colab": {
          "base_uri": "https://localhost:8080/"
        },
        "id": "tvqROrmc-swm",
        "outputId": "83b9a4c7-fc0e-4180-f477-1b8c3e8d2d5d"
      },
      "execution_count": 32,
      "outputs": [
        {
          "output_type": "stream",
          "name": "stdout",
          "text": [
            "Epoch 1/2\n",
            "400/400 [==============================] - 40s 98ms/step - loss: 0.7824 - huber_loss: 0.1211 - val_loss: 0.6812 - val_huber_loss: 0.1176\n",
            "Epoch 2/2\n",
            "400/400 [==============================] - 40s 99ms/step - loss: 0.7000 - huber_loss: 0.1167 - val_loss: 0.6432 - val_huber_loss: 0.1093\n"
          ]
        },
        {
          "output_type": "execute_result",
          "data": {
            "text/plain": [
              "<keras.callbacks.History at 0x7fbf6433eac0>"
            ]
          },
          "metadata": {},
          "execution_count": 32
        }
      ]
    },
    {
      "cell_type": "markdown",
      "source": [
        "Custom dropout"
      ],
      "metadata": {
        "id": "u8az304lz60w"
      }
    },
    {
      "cell_type": "code",
      "source": [
        "def custom_dropout(x, p):\n",
        "    mask = tf.cast(tf.random.uniform(shape=tf.shape(x)) >= p, dtype=x.dtype)\n",
        "    return x * mask"
      ],
      "metadata": {
        "id": "kyKyFYf1z75Z"
      },
      "execution_count": 33,
      "outputs": []
    },
    {
      "cell_type": "code",
      "source": [
        "model = tf.keras.Sequential([\n",
        "    tf.keras.layers.Conv2D(32, 3, activation='relu', input_shape=(150,150,3)),\n",
        "    tf.keras.layers.MaxPooling2D(),\n",
        "    tf.keras.layers.Lambda(lambda x: custom_dropout(x, p=0.3)),\n",
        "    tf.keras.layers.Conv2D(32, 3, activation='relu'),\n",
        "    tf.keras.layers.MaxPooling2D(),\n",
        "    tf.keras.layers.Flatten(),\n",
        "    tf.keras.layers.Lambda(lambda x: custom_dropout(x, p=0.2)),\n",
        "    tf.keras.layers.Dense(128, activation='relu'),\n",
        "    tf.keras.layers.Dense(1, activation='sigmoid')\n",
        "])\n",
        "\n",
        "model.compile(optimizer='adam', loss='binary_crossentropy', metrics=['accuracy'])\n",
        "\n",
        "model.fit(train_dataset, epochs=2, batch_size=16, validation_data=test_dataset)"
      ],
      "metadata": {
        "colab": {
          "base_uri": "https://localhost:8080/"
        },
        "id": "jxOnDDbdMVVh",
        "outputId": "ad2855a1-daba-4cf9-fe6f-b4346d494614"
      },
      "execution_count": 34,
      "outputs": [
        {
          "output_type": "stream",
          "name": "stdout",
          "text": [
            "Epoch 1/2\n",
            "400/400 [==============================] - 41s 99ms/step - loss: 0.7908 - accuracy: 0.5550 - val_loss: 0.6813 - val_accuracy: 0.6175\n",
            "Epoch 2/2\n",
            "400/400 [==============================] - 44s 109ms/step - loss: 0.6951 - accuracy: 0.5675 - val_loss: 0.6706 - val_accuracy: 0.6375\n"
          ]
        },
        {
          "output_type": "execute_result",
          "data": {
            "text/plain": [
              "<keras.callbacks.History at 0x7fbf565d3190>"
            ]
          },
          "metadata": {},
          "execution_count": 34
        }
      ]
    }
  ]
}