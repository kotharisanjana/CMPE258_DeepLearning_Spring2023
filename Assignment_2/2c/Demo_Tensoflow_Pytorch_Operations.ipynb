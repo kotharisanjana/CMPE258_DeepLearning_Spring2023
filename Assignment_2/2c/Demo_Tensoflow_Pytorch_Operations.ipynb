{
  "nbformat": 4,
  "nbformat_minor": 0,
  "metadata": {
    "colab": {
      "provenance": [],
      "collapsed_sections": [
        "iHy6ybEAQ63j",
        "3CGYk6GIdggb",
        "CHwScjDLkBoW",
        "iNIQ3DL4k3zh"
      ],
      "include_colab_link": true
    },
    "kernelspec": {
      "name": "python3",
      "display_name": "Python 3"
    },
    "language_info": {
      "name": "python"
    }
  },
  "cells": [
    {
      "cell_type": "markdown",
      "metadata": {
        "id": "view-in-github",
        "colab_type": "text"
      },
      "source": [
        "<a href=\"https://colab.research.google.com/github/kotharisanjana/CMPE258_DeepLearning_Spring2023/blob/main/Assignment_2/2c/Demo_Tensoflow_Pytorch_Operations.ipynb\" target=\"_parent\"><img src=\"https://colab.research.google.com/assets/colab-badge.svg\" alt=\"Open In Colab\"/></a>"
      ]
    },
    {
      "cell_type": "code",
      "source": [
        "# Imports\n",
        "import numpy as np\n",
        "from sklearn import preprocessing\n",
        "\n",
        "import tensorflow as tf\n",
        "import torch\n",
        "import tensorflow._api.v2.compat.v1 as v1\n",
        "v1.disable_v2_behavior()"
      ],
      "metadata": {
        "colab": {
          "base_uri": "https://localhost:8080/"
        },
        "id": "wAavZwj7d0gJ",
        "outputId": "910742ec-2aaf-4f4d-ff0d-45f666dad3d4"
      },
      "execution_count": 1,
      "outputs": [
        {
          "output_type": "stream",
          "name": "stderr",
          "text": [
            "WARNING:tensorflow:From /usr/local/lib/python3.8/dist-packages/tensorflow/python/compat/v2_compat.py:107: disable_resource_variables (from tensorflow.python.ops.variable_scope) is deprecated and will be removed in a future version.\n",
            "Instructions for updating:\n",
            "non-resource variables are not supported in the long term\n"
          ]
        }
      ]
    },
    {
      "cell_type": "markdown",
      "source": [
        "### Tensorflow"
      ],
      "metadata": {
        "id": "iHy6ybEAQ63j"
      }
    },
    {
      "cell_type": "code",
      "source": [
        "sample_data = tf.constant([1,2,3,4,5,6,7])\n",
        "print('Sample data:', sample_data)"
      ],
      "metadata": {
        "colab": {
          "base_uri": "https://localhost:8080/"
        },
        "id": "I1FoYVGlRChq",
        "outputId": "63ea8f2c-2331-480a-de37-7960d591e191"
      },
      "execution_count": 16,
      "outputs": [
        {
          "output_type": "stream",
          "name": "stdout",
          "text": [
            "Sample data: Tensor(\"Const_3:0\", shape=(7,), dtype=int32)\n"
          ]
        }
      ]
    },
    {
      "cell_type": "code",
      "source": [
        "# Broadcast\n",
        "broadcast_data = tf.broadcast_to(sample_data, [3, 7])\n",
        "print('This is the data after broadcasting:',broadcast_data)"
      ],
      "metadata": {
        "colab": {
          "base_uri": "https://localhost:8080/"
        },
        "id": "fyGKWUIWRS0k",
        "outputId": "0c0437dc-feb1-495a-ba3f-a9bbf914f2a0"
      },
      "execution_count": 17,
      "outputs": [
        {
          "output_type": "stream",
          "name": "stdout",
          "text": [
            "This is the data after broadcasting: Tensor(\"BroadcastTo_1:0\", shape=(3, 7), dtype=int32)\n"
          ]
        }
      ]
    },
    {
      "cell_type": "code",
      "source": [
        "# Tensor with float values\n",
        "rank_1_tensor = tf.constant([1.5, 2.5, 3.5, 4.5])\n",
        "print(rank_1_tensor)"
      ],
      "metadata": {
        "colab": {
          "base_uri": "https://localhost:8080/"
        },
        "id": "5H8Eb-6JRarb",
        "outputId": "faf1b4f4-2d0d-47d9-9886-75d013435b59"
      },
      "execution_count": 18,
      "outputs": [
        {
          "output_type": "stream",
          "name": "stdout",
          "text": [
            "Tensor(\"Const_4:0\", shape=(4,), dtype=float32)\n"
          ]
        }
      ]
    },
    {
      "cell_type": "code",
      "source": [
        "# Tensor with three axis\n",
        "rank_2_tensor = tf.constant([\n",
        "  [[0, 1, 2, 3, 4],\n",
        "   [5, 6, 7, 8, 9]],\n",
        "  [[10, 11, 12, 13, 14],\n",
        "   [15, 16, 17, 18, 19]],\n",
        "  [[20, 21, 22, 23, 24],\n",
        "   [25, 26, 27, 28, 29]],])\n",
        "\n",
        "print(rank_2_tensor)"
      ],
      "metadata": {
        "colab": {
          "base_uri": "https://localhost:8080/"
        },
        "id": "n78u2BG5UkBC",
        "outputId": "92b30dfc-0739-4e6d-96b6-4cd20737149b"
      },
      "execution_count": 19,
      "outputs": [
        {
          "output_type": "stream",
          "name": "stdout",
          "text": [
            "Tensor(\"Const_5:0\", shape=(3, 2, 5), dtype=int32)\n"
          ]
        }
      ]
    },
    {
      "cell_type": "code",
      "source": [
        "# Smaller tensors are 'stretched' automatically to fit larger tensors when running combined operations on them.\n",
        "x = tf.constant([1,2,3])\n",
        "y = tf.constant(2)\n",
        "z = tf.constant([5,6,7])\n",
        "\n",
        "print(tf.multiply(x, 2))\n",
        "print(x * y)\n",
        "print(x * z)"
      ],
      "metadata": {
        "colab": {
          "base_uri": "https://localhost:8080/"
        },
        "id": "eVoRZDp1Rz-I",
        "outputId": "3cfa6c27-de9e-4afd-eea3-1286f66922c5"
      },
      "execution_count": 20,
      "outputs": [
        {
          "output_type": "stream",
          "name": "stdout",
          "text": [
            "Tensor(\"Mul:0\", shape=(3,), dtype=int32)\n",
            "Tensor(\"mul_1:0\", shape=(3,), dtype=int32)\n",
            "Tensor(\"mul_2:0\", shape=(3,), dtype=int32)\n"
          ]
        }
      ]
    },
    {
      "cell_type": "code",
      "source": [
        "# Same operations without broadcasting\n",
        "x_stretch = tf.constant([[1, 1, 1, 1],\n",
        "                         [2, 2, 2, 2],\n",
        "                         [3, 3, 3, 3]])\n",
        "\n",
        "y_stretch = tf.constant([[1, 2, 3, 4],\n",
        "                         [1, 2, 3, 4],\n",
        "                         [1, 2, 3, 4]])\n",
        "\n",
        "print(x_stretch * y_stretch) "
      ],
      "metadata": {
        "colab": {
          "base_uri": "https://localhost:8080/"
        },
        "id": "wm4--sU-R13r",
        "outputId": "f10a05cb-7305-41fa-8339-a43edd3d4221"
      },
      "execution_count": 21,
      "outputs": [
        {
          "output_type": "stream",
          "name": "stdout",
          "text": [
            "Tensor(\"mul_3:0\", shape=(3, 4), dtype=int32)\n"
          ]
        }
      ]
    },
    {
      "cell_type": "code",
      "source": [
        "# A tensor with variable numbers of elements along some axis is called 'ragged'. \n",
        "ragged_list = [\n",
        "    [0, 1, 2, 3],\n",
        "    [4, 5],\n",
        "    [6, 7, 8],\n",
        "    [9]]\n",
        "\n",
        "ragged_tensor = tf.ragged.constant(ragged_list)\n",
        "print(ragged_tensor)"
      ],
      "metadata": {
        "colab": {
          "base_uri": "https://localhost:8080/"
        },
        "id": "hD4NlnfHYgrU",
        "outputId": "abf96481-eba7-46dd-994c-f63df5bd48ad"
      },
      "execution_count": 22,
      "outputs": [
        {
          "output_type": "stream",
          "name": "stdout",
          "text": [
            "tf.RaggedTensor(values=Tensor(\"RaggedConstant/values:0\", shape=(10,), dtype=int32), row_splits=Tensor(\"RaggedConstant/Const:0\", shape=(5,), dtype=int64))\n"
          ]
        }
      ]
    },
    {
      "cell_type": "code",
      "source": [
        "# Sparse tensors store values by index in a memory-efficient manner\n",
        "sparse_tensor = tf.sparse.SparseTensor(indices=[[0, 0], [1, 2]],\n",
        "                                       values=[1, 2],\n",
        "                                       dense_shape=[3, 4])\n",
        "print(sparse_tensor)\n",
        "\n",
        "# Convert sparse tensors to dense\n",
        "print(tf.sparse.to_dense(sparse_tensor))"
      ],
      "metadata": {
        "colab": {
          "base_uri": "https://localhost:8080/"
        },
        "id": "qSKJvaCXY09f",
        "outputId": "a51fef35-0491-41da-f81a-f3b3325467c9"
      },
      "execution_count": 23,
      "outputs": [
        {
          "output_type": "stream",
          "name": "stdout",
          "text": [
            "SparseTensor(indices=Tensor(\"SparseTensor/indices:0\", shape=(2, 2), dtype=int64), values=Tensor(\"SparseTensor/values:0\", shape=(2,), dtype=int32), dense_shape=Tensor(\"SparseTensor/dense_shape:0\", shape=(2,), dtype=int64))\n",
            "Tensor(\"SparseToDense:0\", shape=(3, 4), dtype=int32)\n"
          ]
        }
      ]
    },
    {
      "cell_type": "code",
      "source": [
        "# Scalar string tensor\n",
        "scalar_string_tensor = tf.constant('Hello World')\n",
        "print(scalar_string_tensor)"
      ],
      "metadata": {
        "colab": {
          "base_uri": "https://localhost:8080/"
        },
        "id": "KhFYyNsNY6w1",
        "outputId": "79b49fe4-42b0-415c-fcf6-7b8faeba22e7"
      },
      "execution_count": 24,
      "outputs": [
        {
          "output_type": "stream",
          "name": "stdout",
          "text": [
            "Tensor(\"Const_11:0\", shape=(), dtype=string)\n"
          ]
        }
      ]
    },
    {
      "cell_type": "code",
      "source": [
        "tensor_of_strings = tf.constant(['Hello World',\n",
        "                                 'Trying tensorflow',\n",
        "                                 'CMPE258 Deep Learning'])\n",
        "\n",
        "print(tensor_of_strings)"
      ],
      "metadata": {
        "colab": {
          "base_uri": "https://localhost:8080/"
        },
        "id": "y0TZIFZSaEWu",
        "outputId": "edf042aa-319c-4f5c-b98b-87b513602b0b"
      },
      "execution_count": 25,
      "outputs": [
        {
          "output_type": "stream",
          "name": "stdout",
          "text": [
            "Tensor(\"Const_12:0\", shape=(3,), dtype=string)\n"
          ]
        }
      ]
    },
    {
      "cell_type": "code",
      "source": [
        "# Split a string into a set of tensors\n",
        "print(tf.strings.split(scalar_string_tensor, sep=' '))"
      ],
      "metadata": {
        "colab": {
          "base_uri": "https://localhost:8080/"
        },
        "id": "esA7--_qaF8z",
        "outputId": "87574764-0a1a-4247-94b6-f3fd3e9291bf"
      },
      "execution_count": 26,
      "outputs": [
        {
          "output_type": "stream",
          "name": "stdout",
          "text": [
            "Tensor(\"StringSplit/RaggedGetItem/strided_slice_5:0\", shape=(?,), dtype=string)\n"
          ]
        }
      ]
    },
    {
      "cell_type": "code",
      "source": [
        "# Convert string to a number\n",
        "text = tf.constant('1 10 100')\n",
        "print(tf.strings.to_number(tf.strings.split(text, ' ')))"
      ],
      "metadata": {
        "colab": {
          "base_uri": "https://localhost:8080/"
        },
        "id": "MHP5SQPTaSi3",
        "outputId": "f18956bd-d7bd-48fc-cccc-0970efec1df7"
      },
      "execution_count": 27,
      "outputs": [
        {
          "output_type": "stream",
          "name": "stdout",
          "text": [
            "Tensor(\"StringToNumber:0\", shape=(?,), dtype=float32)\n"
          ]
        }
      ]
    },
    {
      "cell_type": "code",
      "source": [
        "# Converting string to bytes and then to ascii values\n",
        "byte_strings = tf.strings.bytes_split(tf.constant('Hello'))\n",
        "byte_ints = tf.io.decode_raw(tf.constant('Hello'), tf.uint8)\n",
        "print('Byte strings:', byte_strings)\n",
        "print('Bytes:', byte_ints)"
      ],
      "metadata": {
        "colab": {
          "base_uri": "https://localhost:8080/"
        },
        "id": "pdVzFCSaamaY",
        "outputId": "7920eb57-18b4-4a9f-af1f-ae90b54cd225"
      },
      "execution_count": 28,
      "outputs": [
        {
          "output_type": "stream",
          "name": "stdout",
          "text": [
            "Byte strings: Tensor(\"StringsByteSplit/RaggedGetItem/strided_slice_5:0\", shape=(?,), dtype=string)\n",
            "Bytes: Tensor(\"DecodeRaw:0\", shape=(?,), dtype=uint8)\n"
          ]
        }
      ]
    },
    {
      "cell_type": "code",
      "source": [
        "# Splitting strings as unicode and then decode it\n",
        "unicode_bytes = tf.constant('アヒル 🦆')\n",
        "unicode_char_bytes = tf.strings.unicode_split(unicode_bytes, 'UTF-8')\n",
        "unicode_values = tf.strings.unicode_decode(unicode_bytes, 'UTF-8')\n",
        "\n",
        "print('\\nUnicode bytes:', unicode_bytes)\n",
        "print('\\nUnicode chars:', unicode_char_bytes)\n",
        "print('\\nUnicode values:', unicode_values)"
      ],
      "metadata": {
        "colab": {
          "base_uri": "https://localhost:8080/"
        },
        "id": "f5Oafjd-a1EI",
        "outputId": "3dab34a4-f8a0-4371-e839-a226b0e1fe11"
      },
      "execution_count": 29,
      "outputs": [
        {
          "output_type": "stream",
          "name": "stdout",
          "text": [
            "\n",
            "Unicode bytes: Tensor(\"Const_16:0\", shape=(), dtype=string)\n",
            "\n",
            "Unicode chars: Tensor(\"UnicodeSplit/UnicodeEncode/UnicodeEncode/UnicodeEncode:0\", shape=(5,), dtype=string)\n",
            "\n",
            "Unicode values: Tensor(\"UnicodeDecode/UnicodeDecode:1\", shape=(?,), dtype=int32)\n"
          ]
        }
      ]
    },
    {
      "cell_type": "code",
      "source": [
        "my_tensor = tf.constant([[1.0, 2.0], [3.0, 4.0]])\n",
        "\n",
        "# Create a and b; they will have the same name but will be backed by different tensors.\n",
        "a = tf.Variable(my_tensor, name='Mark')\n",
        "# A new variable with the same name, but different value\n",
        "b = tf.Variable(my_tensor + 1, name='Mark')\n",
        "\n",
        "# These are elementwise-unequal, despite having the same name\n",
        "print(a == b)"
      ],
      "metadata": {
        "colab": {
          "base_uri": "https://localhost:8080/"
        },
        "id": "NW2o0bayZG-F",
        "outputId": "d8fc60b9-c627-469e-e877-95d11e199a32"
      },
      "execution_count": 30,
      "outputs": [
        {
          "output_type": "stream",
          "name": "stdout",
          "text": [
            "False\n"
          ]
        }
      ]
    },
    {
      "cell_type": "markdown",
      "source": [
        "Operations in Pytorch"
      ],
      "metadata": {
        "id": "GARAnJNOdcsc"
      }
    },
    {
      "cell_type": "markdown",
      "source": [
        "### Pytorch"
      ],
      "metadata": {
        "id": "3CGYk6GIdggb"
      }
    },
    {
      "cell_type": "code",
      "source": [
        "tensor1 = torch.tensor([[1, 2], [4, 3]])\n",
        "tensor2 = torch.tensor([[6, 2]])\n",
        "tensor3 = torch.tensor([[5], [2]])\n",
        "tensor4 = torch.tensor([7])\n",
        "\n",
        "print(tensor1.shape)\n",
        "print(tensor2.shape)\n",
        "print(tensor3.shape)\n",
        "print(tensor4.shape)\n",
        "\n",
        "print(tensor1 + tensor2)\n",
        "print(tensor1 + tensor3)\n",
        "print(tensor2 + tensor3)\n",
        "print(tensor1 + tensor4)"
      ],
      "metadata": {
        "colab": {
          "base_uri": "https://localhost:8080/"
        },
        "id": "HaFl9HeCgPFh",
        "outputId": "0ac3dd0d-e74d-4014-856c-916d2f5889aa"
      },
      "execution_count": 31,
      "outputs": [
        {
          "output_type": "stream",
          "name": "stdout",
          "text": [
            "torch.Size([2, 2])\n",
            "torch.Size([1, 2])\n",
            "torch.Size([2, 1])\n",
            "torch.Size([1])\n",
            "tensor([[ 7,  4],\n",
            "        [10,  5]])\n",
            "tensor([[6, 7],\n",
            "        [6, 5]])\n",
            "tensor([[11,  7],\n",
            "        [ 8,  4]])\n",
            "tensor([[ 8,  9],\n",
            "        [11, 10]])\n"
          ]
        }
      ]
    },
    {
      "cell_type": "code",
      "source": [
        "a = torch.randn(1, 100) \n",
        "\n",
        "nt = torch.nested.nested_tensor([a, a], dtype=torch.float32)\n",
        "\n",
        "torch.stack(nt.unbind()).size()\n",
        "torch.Size([2, 20, 128])\n",
        "torch.stack([a, a]).size()\n",
        "torch.Size([2, 20, 128])\n",
        "torch.equal(torch.stack(nt.unbind()), torch.stack([a, a]))"
      ],
      "metadata": {
        "colab": {
          "base_uri": "https://localhost:8080/"
        },
        "id": "9-4TEc8mge_t",
        "outputId": "278e254c-56e2-46fc-a2d8-7c34610cde50"
      },
      "execution_count": 32,
      "outputs": [
        {
          "output_type": "execute_result",
          "data": {
            "text/plain": [
              "True"
            ]
          },
          "metadata": {},
          "execution_count": 32
        }
      ]
    },
    {
      "cell_type": "code",
      "source": [
        "a = torch.tensor([[0, 2.], [3, 0]])\n",
        "a.to_sparse()"
      ],
      "metadata": {
        "colab": {
          "base_uri": "https://localhost:8080/"
        },
        "id": "DpW8ezDfhGdI",
        "outputId": "2e0f830f-fa0a-4ecb-c94b-499fdd0e8924"
      },
      "execution_count": 33,
      "outputs": [
        {
          "output_type": "execute_result",
          "data": {
            "text/plain": [
              "tensor(indices=tensor([[0, 1],\n",
              "                       [1, 0]]),\n",
              "       values=tensor([2., 3.]),\n",
              "       size=(2, 2), nnz=2, layout=torch.sparse_coo)"
            ]
          },
          "metadata": {},
          "execution_count": 33
        }
      ]
    },
    {
      "cell_type": "code",
      "source": [
        "t = torch.tensor([[[1, 0], [2, 3]], [[4, 0], [5, 6]]])\n",
        "print(t.dim())\n",
        "t.to_sparse_csr()"
      ],
      "metadata": {
        "colab": {
          "base_uri": "https://localhost:8080/"
        },
        "id": "ajeO3kXZhSjm",
        "outputId": "774200e7-f025-445a-c96b-c8e06cc8e761"
      },
      "execution_count": 34,
      "outputs": [
        {
          "output_type": "stream",
          "name": "stdout",
          "text": [
            "3\n"
          ]
        },
        {
          "output_type": "execute_result",
          "data": {
            "text/plain": [
              "tensor(crow_indices=tensor([[0, 1, 3],\n",
              "                            [0, 1, 3]]),\n",
              "       col_indices=tensor([[0, 0, 1],\n",
              "                           [0, 0, 1]]),\n",
              "       values=tensor([[1, 2, 3],\n",
              "                      [4, 5, 6]]), size=(2, 2, 2), nnz=3,\n",
              "       layout=torch.sparse_csr)"
            ]
          },
          "metadata": {},
          "execution_count": 34
        }
      ]
    },
    {
      "cell_type": "code",
      "source": [
        "imgs = torch.randn(1, 2, 2, 3 , names=('N', 'C', 'H', 'W'))\n",
        "imgs.names\n",
        "renamed_imgs = imgs.rename(H='height', W='width')\n",
        "renamed_imgs.names"
      ],
      "metadata": {
        "colab": {
          "base_uri": "https://localhost:8080/"
        },
        "id": "AljcWoyth-m4",
        "outputId": "4f409ab8-da19-475d-b922-01b7fc8d4271"
      },
      "execution_count": 35,
      "outputs": [
        {
          "output_type": "execute_result",
          "data": {
            "text/plain": [
              "('N', 'C', 'height', 'width')"
            ]
          },
          "metadata": {},
          "execution_count": 35
        }
      ]
    },
    {
      "cell_type": "code",
      "source": [
        "x = torch.randn(3, names=('X',))\n",
        "y = torch.randn(3)\n",
        "z = torch.randn(3, names=('Z',))"
      ],
      "metadata": {
        "id": "mQFXXnPBiGsl"
      },
      "execution_count": 36,
      "outputs": []
    },
    {
      "cell_type": "code",
      "source": [
        "(x + y).names\n",
        "(x + x).names"
      ],
      "metadata": {
        "colab": {
          "base_uri": "https://localhost:8080/"
        },
        "id": "oWp3RjNOiNpI",
        "outputId": "8494fa77-87ea-4d12-ad17-fd2f116c133e"
      },
      "execution_count": 37,
      "outputs": [
        {
          "output_type": "execute_result",
          "data": {
            "text/plain": [
              "('X',)"
            ]
          },
          "metadata": {},
          "execution_count": 37
        }
      ]
    },
    {
      "cell_type": "code",
      "source": [
        "labels = ['cat', 'dog', 'mouse', 'elephant', 'pandas']\n",
        "le = preprocessing.LabelEncoder()\n",
        "targets = le.fit_transform(labels)\n",
        "targets = torch.as_tensor(targets)\n",
        "print(targets)"
      ],
      "metadata": {
        "colab": {
          "base_uri": "https://localhost:8080/"
        },
        "id": "OORD_PtQifsm",
        "outputId": "e0477fae-bea5-4ae8-811a-11958e821c00"
      },
      "execution_count": 38,
      "outputs": [
        {
          "output_type": "stream",
          "name": "stdout",
          "text": [
            "tensor([0, 1, 3, 2, 4])\n"
          ]
        }
      ]
    },
    {
      "cell_type": "markdown",
      "source": [
        "### Linear Search using tensorflow"
      ],
      "metadata": {
        "id": "CHwScjDLkBoW"
      }
    },
    {
      "cell_type": "code",
      "source": [
        "class LinearSearch():\n",
        "  def __init__(self, array, x):\n",
        "      self.x = tf.constant(x)\n",
        "      self.array = tf.constant(array)\n",
        "      self.length = len(array)\n",
        "      self.graph = tf.while_loop(self.cond, self.body, [0, False])\n",
        "\n",
        "  def run(self):\n",
        "      with tf.compat.v1.Session() as sess:\n",
        "          return sess.run(self.graph)\n",
        "\n",
        "  def cond(self, i, is_found):\n",
        "      return tf.logical_and(tf.less(i, self.length), tf.logical_not(is_found))\n",
        "\n",
        "  def body(self, i, is_found):\n",
        "      return tf.cond(tf.equal(self.array[i], self.x), lambda: (i, True), lambda: (tf.add(i, 1), False))\n",
        "\n",
        "if __name__ == '__main__':\n",
        "    array, x = [15, 20, 45, 33, 84, 100, 12], 100\n",
        "    search = LinearSearch(array, x)\n",
        "    ix, is_found = search.run()\n",
        "    print('Array :', array)\n",
        "    print('Number to search :', x)\n",
        "    if is_found:\n",
        "        print('{} is at index {}.'.format(x, ix))\n",
        "    else:\n",
        "        print('Not found.')"
      ],
      "metadata": {
        "colab": {
          "base_uri": "https://localhost:8080/"
        },
        "id": "PxiCyWw8kQwR",
        "outputId": "38810679-01ef-4f09-c84a-9c98c3fa8c7d"
      },
      "execution_count": 41,
      "outputs": [
        {
          "output_type": "stream",
          "name": "stdout",
          "text": [
            "Array : [15, 20, 45, 33, 84, 100, 12]\n",
            "Number to search : 100\n",
            "100 is at index 5.\n"
          ]
        }
      ]
    },
    {
      "cell_type": "markdown",
      "source": [
        "### Binary Search using tensorflow"
      ],
      "metadata": {
        "id": "iNIQ3DL4k3zh"
      }
    },
    {
      "cell_type": "code",
      "source": [
        "class BinarySearch():\n",
        "  def __init__(self, array, x):\n",
        "    self.array = tf.constant(array)\n",
        "    self.x = tf.constant(x)\n",
        "    self.loop = tf.while_loop(self.cond, self.body, [-1, False, 0, len(array), -1])\n",
        "\n",
        "  def run(self):\n",
        "    with tf.compat.v1.Session() as sess:\n",
        "        return sess.run(self.loop)\n",
        "\n",
        "  def cond(self, x, is_found, left, right, mid):\n",
        "    return tf.logical_and(tf.less_equal(left, right), tf.logical_not(is_found))\n",
        "\n",
        "  def body(self, x, is_found, left, right, mid):\n",
        "    mid = tf.cast(tf.divide(tf.add(left, right), 2),tf.int32)\n",
        "    return tf.cond(tf.equal(self.array[mid], self.x),\n",
        "                lambda: (self.array[mid], True, left, right, mid),\n",
        "                lambda: tf.cond(tf.less(self.array[mid], self.x),\n",
        "                            lambda: (-1, False, tf.add(mid, 1), right, mid),\n",
        "                            lambda: (-1, False, left, tf.subtract(mid, 1), mid)))\n",
        "\n",
        "if __name__ == '__main__':\n",
        "  array = sorted([10, 30, 52, 74, 84])\n",
        "  x = 52\n",
        "  search = BinarySearch(array, x)\n",
        "  xx, is_found, l, r, m = search.run()\n",
        "\n",
        "  print('Array :', array)\n",
        "  print('Number to search :', x)\n",
        "  if is_found:\n",
        "      print('{} is at index {}.'.format(xx, m))\n",
        "  else:\n",
        "      print('Not found.')"
      ],
      "metadata": {
        "colab": {
          "base_uri": "https://localhost:8080/"
        },
        "id": "Sut7lqD4k79K",
        "outputId": "67111aa5-2ae6-4eb8-80d9-b99519a2f998"
      },
      "execution_count": 42,
      "outputs": [
        {
          "output_type": "stream",
          "name": "stdout",
          "text": [
            "Array : [10, 30, 52, 74, 84]\n",
            "Number to search : 52\n",
            "52 is at index 2.\n"
          ]
        }
      ]
    },
    {
      "cell_type": "markdown",
      "source": [
        "### Insertion sort using tensorflow"
      ],
      "metadata": {
        "id": "TF11_GGEpulr"
      }
    },
    {
      "cell_type": "code",
      "source": [
        "class InsertionSort():\n",
        "    def __init__(self, array):\n",
        "      self.i = tf.constant(1)\n",
        "      self.j = tf.constant(len(array)-1)\n",
        "      self.array = tf.Variable(array, trainable=False)\n",
        "      self.length = len(array)\n",
        "\n",
        "      cond = lambda i, j, _: tf.less(i-1, self.length-1)\n",
        "      self.graph = tf.while_loop(cond, self.outer_loop, loop_vars=[self.i, self.j, self.array],\n",
        "              shape_invariants=[self.i.get_shape(), self.j.get_shape(), tf.TensorShape(self.length)],\n",
        "              parallel_iterations=1)\n",
        "\n",
        "    def run(self):\n",
        "      with tf.compat.v1.Session() as sess:\n",
        "          tf.compat.v1.disable_eager_execution()\n",
        "          tf.compat.v1.global_variables_initializer().run()\n",
        "          return sess.run(self.graph)\n",
        "\n",
        "    def outer_loop(self, i, j, _):\n",
        "      j = i\n",
        "      cond = lambda i, j, array: tf.logical_and(tf.greater(j,0), tf.greater(array[j-1], array[j]))\n",
        "\n",
        "      loop = tf.while_loop(cond, self.inner_loop, loop_vars=[i, j, self.array],\n",
        "                  shape_invariants=[i.get_shape(), j.get_shape(), tf.TensorShape(self.length)],\n",
        "                  parallel_iterations=1,\n",
        "                  back_prop=False)\n",
        "      return tf.add(i, 1), loop[1], loop[2]\n",
        "\n",
        "    def inner_loop(self, i, j, _):\n",
        "      return i, tf.subtract(j, 1), tf.compat.v1.scatter_nd_update(self.array, [[j-1],[j]], [self.array[j],self.array[j-1]])\n",
        "\n",
        "\n",
        "with tf.compat.v1.Session() as sess:\n",
        "    x = np.array([1,7,38,0,10,9,3])\n",
        "    print(InsertionSort(x).run()[2])"
      ],
      "metadata": {
        "colab": {
          "base_uri": "https://localhost:8080/"
        },
        "id": "vrRA_xgwp08M",
        "outputId": "74a1b0fc-5c6f-4825-f5bc-f257ba8932eb"
      },
      "execution_count": 46,
      "outputs": [
        {
          "output_type": "stream",
          "name": "stdout",
          "text": [
            "[ 0  1  3  7  9 10 38]\n"
          ]
        }
      ]
    },
    {
      "cell_type": "code",
      "source": [],
      "metadata": {
        "id": "Vsd5u3towlvF"
      },
      "execution_count": null,
      "outputs": []
    }
  ]
}