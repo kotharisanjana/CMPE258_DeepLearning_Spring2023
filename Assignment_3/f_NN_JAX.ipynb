{
  "nbformat": 4,
  "nbformat_minor": 0,
  "metadata": {
    "colab": {
      "provenance": [],
      "authorship_tag": "ABX9TyNymvVw+xPy5INWi7mgRJ5S",
      "include_colab_link": true
    },
    "kernelspec": {
      "name": "python3",
      "display_name": "Python 3"
    },
    "language_info": {
      "name": "python"
    }
  },
  "cells": [
    {
      "cell_type": "markdown",
      "metadata": {
        "id": "view-in-github",
        "colab_type": "text"
      },
      "source": [
        "<a href=\"https://colab.research.google.com/github/kotharisanjana/CMPE258_DeepLearning_Spring2023/blob/main/Assignment_3/f_NN_JAX.ipynb\" target=\"_parent\"><img src=\"https://colab.research.google.com/assets/colab-badge.svg\" alt=\"Open In Colab\"/></a>"
      ]
    },
    {
      "cell_type": "markdown",
      "source": [
        "**Write a colab in JAX only from scratch 3 layer deep neural network for non linear regression using low-level and high-level API**"
      ],
      "metadata": {
        "id": "RngiXgVUU1vR"
      }
    },
    {
      "cell_type": "code",
      "execution_count": 105,
      "metadata": {
        "id": "f-hnWFrPcCJp"
      },
      "outputs": [],
      "source": [
        "# Imports\n",
        "\n",
        "import jax\n",
        "from jax import numpy as jnp\n",
        "from jax import grad, value_and_grad\n",
        "from jax.example_libraries import stax, optimizers\n",
        "\n",
        "import numpy as np\n",
        "\n",
        "import matplotlib.pyplot as plt\n",
        "from mpl_toolkits.mplot3d import Axes3D"
      ]
    },
    {
      "cell_type": "code",
      "source": [
        "# Generate non-linear data\n",
        "\n",
        "n = 1000\n",
        "dim = 3\n",
        "x = np.random.uniform(-1, 1, (n, dim))\n",
        "print('Input shape =', x.shape)"
      ],
      "metadata": {
        "colab": {
          "base_uri": "https://localhost:8080/"
        },
        "id": "LfLk6Wq8d4jq",
        "outputId": "9973389c-f1c4-481b-d2ea-efd5ea6571c7"
      },
      "execution_count": 91,
      "outputs": [
        {
          "output_type": "stream",
          "name": "stdout",
          "text": [
            "Input shape = (1000, 3)\n"
          ]
        }
      ]
    },
    {
      "cell_type": "code",
      "source": [
        "# Initialize weights and bias\n",
        "\n",
        "weights = np.array([[2, -3, 1]]).T\n",
        "bias = np.array([8])\n",
        "print('Weights shape =', weights.shape)\n",
        "print('Bias shape =', bias.shape)\n",
        "\n",
        "# non-linear 3 variable function we want to learn\n",
        "y_true = np.einsum('ij, jk -> ik', (x**3),  weights) + np.einsum('ij, jk -> ik', (x**2),  weights) + np.einsum('ij, jk -> ik', x, weights) + bias\n",
        "print('Function output shape =', y_true.shape)"
      ],
      "metadata": {
        "colab": {
          "base_uri": "https://localhost:8080/"
        },
        "id": "LUFEt-QOedXh",
        "outputId": "32faebf5-be4b-4ff7-a344-90a7912930b5"
      },
      "execution_count": 92,
      "outputs": [
        {
          "output_type": "stream",
          "name": "stdout",
          "text": [
            "Weights shape = (3, 1)\n",
            "Bias shape = (1,)\n",
            "Function output shape = (1000, 1)\n"
          ]
        }
      ]
    },
    {
      "cell_type": "code",
      "source": [
        "# Hyperparamter initializations\n",
        "\n",
        "input_dim = dim\n",
        "output_dim = 1\n",
        "hidden_dim = 16\n",
        "\n",
        "learning_rate = 0.01\n",
        "num_epochs = 50\n",
        "\n",
        "seed = jax.random.PRNGKey(101)"
      ],
      "metadata": {
        "id": "RyTw9NYSxq1p"
      },
      "execution_count": 118,
      "outputs": []
    },
    {
      "cell_type": "markdown",
      "source": [
        "#### Using low-level API"
      ],
      "metadata": {
        "id": "2aupKzsnh74H"
      }
    },
    {
      "cell_type": "code",
      "source": [
        "def initialize_weights(input_dim, output_dim, hidden_dim, seed):\n",
        "  weights = []\n",
        "\n",
        "  # Weights for 1st hidden layer\n",
        "  w = jax.random.uniform(key=seed, shape=(input_dim, hidden_dim), minval=-1.0, maxval=1.0, dtype=jnp.float32)\n",
        "  b = jax.random.uniform(key=seed, minval=-1.0, maxval=1.0, shape=(hidden_dim,), dtype=jnp.float32)\n",
        "  weights.append([w,b])\n",
        "\n",
        "  # Weights for 2nd hidden layer\n",
        "  w = jax.random.uniform(key=seed, shape=(hidden_dim, hidden_dim), minval=-1.0, maxval=1.0, dtype=jnp.float32)\n",
        "  b = jax.random.uniform(key=seed, minval=-1.0, maxval=1.0, shape=(hidden_dim,), dtype=jnp.float32)\n",
        "  weights.append([w,b])\n",
        "\n",
        "  # Weights for output layer\n",
        "  w = jax.random.uniform(key=seed, shape=(hidden_dim, output_dim), minval=-1.0, maxval=1.0, dtype=jnp.float32)\n",
        "  b = jax.random.uniform(key=seed, minval=-1.0, maxval=1.0, shape=(output_dim,), dtype=jnp.float32)\n",
        "  weights.append([w,b])\n",
        "\n",
        "  return weights"
      ],
      "metadata": {
        "id": "6clzMH8daGpF"
      },
      "execution_count": 119,
      "outputs": []
    },
    {
      "cell_type": "code",
      "source": [
        "# Non-linear activation function\n",
        "\n",
        "def relu(x):\n",
        "  return jnp.maximum(x, jnp.zeros_like(x))"
      ],
      "metadata": {
        "id": "V3Lvy8Smcu99"
      },
      "execution_count": 120,
      "outputs": []
    },
    {
      "cell_type": "code",
      "source": [
        "# Linear layer\n",
        "\n",
        "def linear(weights, input, activation=lambda x: x):\n",
        "  weights, bias = weights\n",
        "  out = jnp.dot(input, weights) + bias\n",
        "  return activation(out)"
      ],
      "metadata": {
        "id": "S2Bl13nHfH0z"
      },
      "execution_count": 121,
      "outputs": []
    },
    {
      "cell_type": "code",
      "source": [
        "# Forward pass\n",
        "\n",
        "def forward(weights, input):\n",
        "  layer_out = input\n",
        "\n",
        "  for i in range(len(weights[:-1])):\n",
        "    layer_out = linear(weights[i], layer_out, relu)\n",
        "\n",
        "  preds = linear(weights[-1], layer_out)\n",
        "\n",
        "  return preds.squeeze()"
      ],
      "metadata": {
        "id": "e_UxqG2rdrhL"
      },
      "execution_count": 122,
      "outputs": []
    },
    {
      "cell_type": "code",
      "source": [
        "# Error function - Mean Square Error\n",
        "\n",
        "def mean_squared_error(weights, input, actual):\n",
        "    preds = forward(weights, input)\n",
        "    return jnp.power(actual - preds, 2).mean()"
      ],
      "metadata": {
        "id": "Wr6j_v7jqem8"
      },
      "execution_count": 123,
      "outputs": []
    },
    {
      "cell_type": "code",
      "source": [
        "# Computing gradients using JAX grad\n",
        "\n",
        "def backward(weights, input, actual):\n",
        "    loss = grad(mean_squared_error)\n",
        "    gradients = loss(weights, input, actual)\n",
        "    return gradients"
      ],
      "metadata": {
        "id": "Kn75KErKeULl"
      },
      "execution_count": 124,
      "outputs": []
    },
    {
      "cell_type": "code",
      "source": [
        "# Train network\n",
        "\n",
        "def train(weights, x, y_true, learning_rate, num_epochs):\n",
        "  loss_ =  []\n",
        "\n",
        "  for epoch in range(num_epochs):\n",
        "    loss_value = mean_squared_error(weights, x, y_true)\n",
        "    gradients = backward(weights, x, y_true)\n",
        "\n",
        "    # Update Weights\n",
        "    for j in range(len(weights)):\n",
        "      weights[j][0] -= learning_rate * gradients[j][0] \n",
        "      weights[j][1] -= learning_rate * gradients[j][1]\n",
        "\n",
        "    print(f'Epoch {epoch}, loss {loss_value}')\n",
        "    loss_.append(loss_value)\n",
        "\n",
        "  return loss_"
      ],
      "metadata": {
        "id": "cNok_kPCgHV3"
      },
      "execution_count": 125,
      "outputs": []
    },
    {
      "cell_type": "code",
      "source": [
        "# Initialize weights\n",
        "weights = initialize_weights(input_dim, output_dim, hidden_dim, seed)\n",
        "\n",
        "# Train model\n",
        "loss_ = train(weights, x, y_true, learning_rate, num_epochs)"
      ],
      "metadata": {
        "colab": {
          "base_uri": "https://localhost:8080/"
        },
        "id": "crTnWv37hDAb",
        "outputId": "c23e5b29-6d85-46ac-82e8-ccd23248b027"
      },
      "execution_count": 126,
      "outputs": [
        {
          "output_type": "stream",
          "name": "stdout",
          "text": [
            "Epoch 0, loss 16.276750564575195\n",
            "Epoch 1, loss 15.112936973571777\n",
            "Epoch 2, loss 14.745722770690918\n",
            "Epoch 3, loss 14.473410606384277\n",
            "Epoch 4, loss 14.247187614440918\n",
            "Epoch 5, loss 14.05783462524414\n",
            "Epoch 6, loss 13.898534774780273\n",
            "Epoch 7, loss 13.763169288635254\n",
            "Epoch 8, loss 13.647698402404785\n",
            "Epoch 9, loss 13.548829078674316\n",
            "Epoch 10, loss 13.46292781829834\n",
            "Epoch 11, loss 13.388622283935547\n",
            "Epoch 12, loss 13.324357986450195\n",
            "Epoch 13, loss 13.268770217895508\n",
            "Epoch 14, loss 13.220394134521484\n",
            "Epoch 15, loss 13.178058624267578\n",
            "Epoch 16, loss 13.140802383422852\n",
            "Epoch 17, loss 13.107879638671875\n",
            "Epoch 18, loss 13.078653335571289\n",
            "Epoch 19, loss 13.052685737609863\n",
            "Epoch 20, loss 13.029497146606445\n",
            "Epoch 21, loss 13.008718490600586\n",
            "Epoch 22, loss 12.990102767944336\n",
            "Epoch 23, loss 12.97329330444336\n",
            "Epoch 24, loss 12.958028793334961\n",
            "Epoch 25, loss 12.94412612915039\n",
            "Epoch 26, loss 12.931408882141113\n",
            "Epoch 27, loss 12.919747352600098\n",
            "Epoch 28, loss 12.909029006958008\n",
            "Epoch 29, loss 12.899175643920898\n",
            "Epoch 30, loss 12.890045166015625\n",
            "Epoch 31, loss 12.881566047668457\n",
            "Epoch 32, loss 12.87366771697998\n",
            "Epoch 33, loss 12.86631965637207\n",
            "Epoch 34, loss 12.859435081481934\n",
            "Epoch 35, loss 12.852959632873535\n",
            "Epoch 36, loss 12.84686279296875\n",
            "Epoch 37, loss 12.841107368469238\n",
            "Epoch 38, loss 12.835674285888672\n",
            "Epoch 39, loss 12.83055591583252\n",
            "Epoch 40, loss 12.825678825378418\n",
            "Epoch 41, loss 12.82101821899414\n",
            "Epoch 42, loss 12.8165864944458\n",
            "Epoch 43, loss 12.812370300292969\n",
            "Epoch 44, loss 12.80836296081543\n",
            "Epoch 45, loss 12.80453109741211\n",
            "Epoch 46, loss 12.80086898803711\n",
            "Epoch 47, loss 12.797347068786621\n",
            "Epoch 48, loss 12.793929100036621\n",
            "Epoch 49, loss 12.790663719177246\n"
          ]
        }
      ]
    },
    {
      "cell_type": "code",
      "source": [
        "# Plot epoch vs loss\n",
        "\n",
        "plt.figure(figsize=(8, 5))\n",
        "plt.plot(range(num_epochs), loss_, label='Loss')\n",
        "plt.legend()"
      ],
      "metadata": {
        "colab": {
          "base_uri": "https://localhost:8080/",
          "height": 338
        },
        "id": "iMGKC98rtP_K",
        "outputId": "c0bfcf5f-c3b5-4dad-8914-e9c4bd7be083"
      },
      "execution_count": 127,
      "outputs": [
        {
          "output_type": "execute_result",
          "data": {
            "text/plain": [
              "<matplotlib.legend.Legend at 0x7f1c7f0eb820>"
            ]
          },
          "metadata": {},
          "execution_count": 127
        },
        {
          "output_type": "display_data",
          "data": {
            "text/plain": [
              "<Figure size 576x360 with 1 Axes>"
            ],
            "image/png": "[encoded data removed]"
          },
          "metadata": {
            "needs_background": "light"
          }
        }
      ]
    },
    {
      "cell_type": "markdown",
      "source": [
        "From the plot above, we see that the loss initially goes up but then consistently reduces as the number of epochs increases. This is because the model is learning the underlying function. Backpropagation updates weights and biases so as to minimize the loss which is seen from the 50 epochs above."
      ],
      "metadata": {
        "id": "eZiMszHQZmcN"
      }
    },
    {
      "cell_type": "markdown",
      "source": [
        "#### Using high-level API"
      ],
      "metadata": {
        "id": "SjLY2zyIjvgO"
      }
    },
    {
      "cell_type": "code",
      "source": [
        "# Create 3 layer deep neural network with non-linear activation function\n",
        "\n",
        "init, apply = stax.serial(stax.Dense(input_dim),\n",
        "                          stax.Relu,\n",
        "                          stax.Dense(hidden_dim),\n",
        "                          stax.Relu,\n",
        "                          stax.Dense(hidden_dim),\n",
        "                          stax.Relu,\n",
        "                          stax.Dense(output_dim),\n",
        "                          )"
      ],
      "metadata": {
        "id": "BNuw7NnYjw-R"
      },
      "execution_count": 128,
      "outputs": []
    },
    {
      "cell_type": "code",
      "source": [
        "# Loss function\n",
        "\n",
        "def mean_squared_error(weights, input, y_true):\n",
        "    y_pred = apply(weights, input).squeeze()\n",
        "    return jnp.power(y_true - y_pred, 2).mean()"
      ],
      "metadata": {
        "id": "Xcyeo5HQnaId"
      },
      "execution_count": 129,
      "outputs": []
    },
    {
      "cell_type": "code",
      "source": [
        "# Training neural netwrok method\n",
        "\n",
        "def train(x, y_true, num_epochs, opt_state):\n",
        "  loss_ = []\n",
        "\n",
        "  for epoch in range(num_epochs):\n",
        "    # Optimizer state is an object that has weights of our model\n",
        "    loss_value, gradients = value_and_grad(mean_squared_error)(optimizer_get_weights(opt_state), x, y_true)\n",
        "\n",
        "    # Update Weights\n",
        "    opt_state = optimizer_update(epoch, gradients, opt_state)\n",
        "\n",
        "    loss_.append(loss_value)\n",
        "    print(f'Epoch {epoch}, loss {loss_value}')\n",
        "\n",
        "  return opt_state, loss_"
      ],
      "metadata": {
        "id": "i7U5YFR1oseS"
      },
      "execution_count": 130,
      "outputs": []
    },
    {
      "cell_type": "code",
      "source": [
        "# Initialize weights by passing input dimensions to init function \n",
        "\n",
        "weights = init(seed, (x.shape[1],))\n",
        "weights = weights[1]\n",
        "\n",
        "optimizer_init, optimizer_update, optimizer_get_weights = optimizers.sgd(learning_rate)\n",
        "optimizer_state = optimizer_init(weights)\n",
        "\n",
        "final_optimizer_state, loss_ = train(x, y_true, num_epochs, optimizer_state)"
      ],
      "metadata": {
        "colab": {
          "base_uri": "https://localhost:8080/"
        },
        "id": "cJ_sYl6WpoOq",
        "outputId": "ae497efb-e357-41bb-c1e6-03ec749fbffe"
      },
      "execution_count": 131,
      "outputs": [
        {
          "output_type": "stream",
          "name": "stdout",
          "text": [
            "Epoch 0, loss 79.30587005615234\n",
            "Epoch 1, loss 74.05699920654297\n",
            "Epoch 2, loss 68.7133560180664\n",
            "Epoch 3, loss 62.81413650512695\n",
            "Epoch 4, loss 56.09819030761719\n",
            "Epoch 5, loss 48.36458969116211\n",
            "Epoch 6, loss 39.55276107788086\n",
            "Epoch 7, loss 30.107898712158203\n",
            "Epoch 8, loss 21.472415924072266\n",
            "Epoch 9, loss 15.714240074157715\n",
            "Epoch 10, loss 13.467304229736328\n",
            "Epoch 11, loss 13.042821884155273\n",
            "Epoch 12, loss 12.98958683013916\n",
            "Epoch 13, loss 12.969024658203125\n",
            "Epoch 14, loss 12.95152759552002\n",
            "Epoch 15, loss 12.935443878173828\n",
            "Epoch 16, loss 12.92066478729248\n",
            "Epoch 17, loss 12.907354354858398\n",
            "Epoch 18, loss 12.895045280456543\n",
            "Epoch 19, loss 12.88361930847168\n",
            "Epoch 20, loss 12.872958183288574\n",
            "Epoch 21, loss 12.86299991607666\n",
            "Epoch 22, loss 12.853693008422852\n",
            "Epoch 23, loss 12.845001220703125\n",
            "Epoch 24, loss 12.836832046508789\n",
            "Epoch 25, loss 12.829174995422363\n",
            "Epoch 26, loss 12.821949005126953\n",
            "Epoch 27, loss 12.815129280090332\n",
            "Epoch 28, loss 12.808708190917969\n",
            "Epoch 29, loss 12.802633285522461\n",
            "Epoch 30, loss 12.796910285949707\n",
            "Epoch 31, loss 12.791502952575684\n",
            "Epoch 32, loss 12.786389350891113\n",
            "Epoch 33, loss 12.781550407409668\n",
            "Epoch 34, loss 12.776959419250488\n",
            "Epoch 35, loss 12.772615432739258\n",
            "Epoch 36, loss 12.76849365234375\n",
            "Epoch 37, loss 12.764593124389648\n",
            "Epoch 38, loss 12.760900497436523\n",
            "Epoch 39, loss 12.757390022277832\n",
            "Epoch 40, loss 12.754058837890625\n",
            "Epoch 41, loss 12.750882148742676\n",
            "Epoch 42, loss 12.74786376953125\n",
            "Epoch 43, loss 12.744980812072754\n",
            "Epoch 44, loss 12.742239952087402\n",
            "Epoch 45, loss 12.739623069763184\n",
            "Epoch 46, loss 12.737131118774414\n",
            "Epoch 47, loss 12.734737396240234\n",
            "Epoch 48, loss 12.732454299926758\n",
            "Epoch 49, loss 12.730267524719238\n"
          ]
        }
      ]
    },
    {
      "cell_type": "code",
      "source": [
        "# Plot epoch vs loss\n",
        "\n",
        "plt.figure(figsize=(8, 5))\n",
        "plt.plot(range(num_epochs), loss_, label='Loss')\n",
        "plt.legend()"
      ],
      "metadata": {
        "colab": {
          "base_uri": "https://localhost:8080/",
          "height": 338
        },
        "id": "h2VkxccVqN98",
        "outputId": "4f2756e9-9f58-4b64-b11a-ef765bc89246"
      },
      "execution_count": 132,
      "outputs": [
        {
          "output_type": "execute_result",
          "data": {
            "text/plain": [
              "<matplotlib.legend.Legend at 0x7f1c7f072e50>"
            ]
          },
          "metadata": {},
          "execution_count": 132
        },
        {
          "output_type": "display_data",
          "data": {
            "text/plain": [
              "<Figure size 576x360 with 1 Axes>"
            ],
            "image/png": "[encoded data removed]"
          },
          "metadata": {
            "needs_background": "light"
          }
        }
      ]
    },
    {
      "cell_type": "markdown",
      "source": [
        "We see a big drop in MSE loss until 10 epochs after which the loss decreases very gradually. The network is taking time to converge which can be addressed using variable learning rate. However, since the loss is reducing, it is positive that the network is learning the underlying function. "
      ],
      "metadata": {
        "id": "s-PcD4xXq-gP"
      }
    },
    {
      "cell_type": "code",
      "source": [],
      "metadata": {
        "id": "Ab8C0WCaqnp1"
      },
      "execution_count": 132,
      "outputs": []
    }
  ]
}